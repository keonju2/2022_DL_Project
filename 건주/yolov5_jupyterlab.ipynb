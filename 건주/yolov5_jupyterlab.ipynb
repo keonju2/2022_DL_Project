{
  "cells": [
    {
      "cell_type": "markdown",
      "metadata": {
        "id": "view-in-github",
        "colab_type": "text"
      },
      "source": [
        "<a href=\"https://colab.research.google.com/github/keonju2/2022_DL_project/blob/main/%EA%B1%B4%EC%A3%BC/yolov5_jupyterlab.ipynb\" target=\"_parent\"><img src=\"https://colab.research.google.com/assets/colab-badge.svg\" alt=\"Open In Colab\"/></a>"
      ]
    },
    {
      "cell_type": "code",
      "execution_count": null,
      "id": "8067d7b0-ed56-4a45-a0c4-4a9687d912b4",
      "metadata": {
        "id": "8067d7b0-ed56-4a45-a0c4-4a9687d912b4",
        "outputId": "fc2c2854-5de1-4f7d-8fe3-8e6513c611d9"
      },
      "outputs": [
        {
          "name": "stdout",
          "output_type": "stream",
          "text": [
            "Cloning into 'yolov5'...\n",
            "remote: Enumerating objects: 12093, done.\u001b[K\n",
            "remote: Counting objects: 100% (46/46), done.\u001b[K\n",
            "remote: Compressing objects: 100% (39/39), done.\u001b[K\n",
            "remote: Total 12093 (delta 23), reused 15 (delta 7), pack-reused 12047\u001b[K\n",
            "Receiving objects: 100% (12093/12093), 11.90 MiB | 9.96 MiB/s, done.\n",
            "Resolving deltas: 100% (8379/8379), done.\n",
            "/home/jupyter/yolov5\n",
            "Requirement already satisfied: matplotlib>=3.2.2 in /opt/conda/lib/python3.7/site-packages (from -r requirements.txt (line 5)) (3.5.2)\n",
            "Requirement already satisfied: numpy>=1.18.5 in /opt/conda/lib/python3.7/site-packages (from -r requirements.txt (line 6)) (1.21.6)\n",
            "Collecting opencv-python>=4.1.1\n",
            "  Downloading opencv_python-4.5.5.64-cp36-abi3-manylinux_2_17_x86_64.manylinux2014_x86_64.whl (60.5 MB)\n",
            "\u001b[2K     \u001b[90m━━━━━━━━━━━━━━━━━━━━━━━━━━━━━━━━━━━━━━━━\u001b[0m \u001b[32m60.5/60.5 MB\u001b[0m \u001b[31m27.0 MB/s\u001b[0m eta \u001b[36m0:00:00\u001b[0m00:01\u001b[0m00:01\u001b[0m\n",
            "\u001b[?25hRequirement already satisfied: Pillow>=7.1.2 in /opt/conda/lib/python3.7/site-packages (from -r requirements.txt (line 8)) (9.1.1)\n",
            "Requirement already satisfied: PyYAML>=5.3.1 in /opt/conda/lib/python3.7/site-packages (from -r requirements.txt (line 9)) (6.0)\n",
            "Requirement already satisfied: requests>=2.23.0 in /opt/conda/lib/python3.7/site-packages (from -r requirements.txt (line 10)) (2.27.1)\n",
            "Requirement already satisfied: scipy>=1.4.1 in /opt/conda/lib/python3.7/site-packages (from -r requirements.txt (line 11)) (1.7.3)\n",
            "Collecting torch>=1.7.0\n",
            "  Downloading torch-1.11.0-cp37-cp37m-manylinux1_x86_64.whl (750.6 MB)\n",
            "\u001b[2K     \u001b[90m━━━━━━━━━━━━━━━━━━━━━━━━━━━━━━━━━━━━━━━\u001b[0m \u001b[32m750.6/750.6 MB\u001b[0m \u001b[31m1.9 MB/s\u001b[0m eta \u001b[36m0:00:00\u001b[0m00:01\u001b[0m00:01\u001b[0m\n",
            "\u001b[?25hCollecting torchvision>=0.8.1\n",
            "  Downloading torchvision-0.12.0-cp37-cp37m-manylinux1_x86_64.whl (21.0 MB)\n",
            "\u001b[2K     \u001b[90m━━━━━━━━━━━━━━━━━━━━━━━━━━━━━━━━━━━━━━━━\u001b[0m \u001b[32m21.0/21.0 MB\u001b[0m \u001b[31m28.5 MB/s\u001b[0m eta \u001b[36m0:00:00\u001b[0m00:01\u001b[0m00:01\u001b[0m\n",
            "\u001b[?25hRequirement already satisfied: tqdm>=4.41.0 in /opt/conda/lib/python3.7/site-packages (from -r requirements.txt (line 14)) (4.64.0)\n",
            "Requirement already satisfied: protobuf<=3.20.1 in /opt/conda/lib/python3.7/site-packages (from -r requirements.txt (line 15)) (3.20.1)\n",
            "Requirement already satisfied: tensorboard>=2.4.1 in /opt/conda/lib/python3.7/site-packages (from -r requirements.txt (line 18)) (2.8.0)\n",
            "Requirement already satisfied: pandas>=1.1.4 in /opt/conda/lib/python3.7/site-packages (from -r requirements.txt (line 22)) (1.3.5)\n",
            "Requirement already satisfied: seaborn>=0.11.0 in /opt/conda/lib/python3.7/site-packages (from -r requirements.txt (line 23)) (0.11.2)\n",
            "Requirement already satisfied: ipython in /opt/conda/lib/python3.7/site-packages (from -r requirements.txt (line 35)) (7.33.0)\n",
            "Requirement already satisfied: psutil in /opt/conda/lib/python3.7/site-packages (from -r requirements.txt (line 36)) (5.9.1)\n",
            "Collecting thop\n",
            "  Downloading thop-0.0.31.post2005241907-py3-none-any.whl (8.7 kB)\n",
            "Requirement already satisfied: fonttools>=4.22.0 in /opt/conda/lib/python3.7/site-packages (from matplotlib>=3.2.2->-r requirements.txt (line 5)) (4.33.3)\n",
            "Requirement already satisfied: cycler>=0.10 in /opt/conda/lib/python3.7/site-packages (from matplotlib>=3.2.2->-r requirements.txt (line 5)) (0.11.0)\n",
            "Requirement already satisfied: kiwisolver>=1.0.1 in /opt/conda/lib/python3.7/site-packages (from matplotlib>=3.2.2->-r requirements.txt (line 5)) (1.4.2)\n",
            "Requirement already satisfied: python-dateutil>=2.7 in /opt/conda/lib/python3.7/site-packages (from matplotlib>=3.2.2->-r requirements.txt (line 5)) (2.8.2)\n",
            "Requirement already satisfied: pyparsing>=2.2.1 in /opt/conda/lib/python3.7/site-packages (from matplotlib>=3.2.2->-r requirements.txt (line 5)) (3.0.9)\n",
            "Requirement already satisfied: packaging>=20.0 in /opt/conda/lib/python3.7/site-packages (from matplotlib>=3.2.2->-r requirements.txt (line 5)) (21.3)\n",
            "Requirement already satisfied: certifi>=2017.4.17 in /opt/conda/lib/python3.7/site-packages (from requests>=2.23.0->-r requirements.txt (line 10)) (2022.5.18.1)\n",
            "Requirement already satisfied: charset-normalizer~=2.0.0 in /opt/conda/lib/python3.7/site-packages (from requests>=2.23.0->-r requirements.txt (line 10)) (2.0.12)\n",
            "Requirement already satisfied: urllib3<1.27,>=1.21.1 in /opt/conda/lib/python3.7/site-packages (from requests>=2.23.0->-r requirements.txt (line 10)) (1.26.9)\n",
            "Requirement already satisfied: idna<4,>=2.5 in /opt/conda/lib/python3.7/site-packages (from requests>=2.23.0->-r requirements.txt (line 10)) (3.3)\n",
            "Requirement already satisfied: typing-extensions in /opt/conda/lib/python3.7/site-packages (from torch>=1.7.0->-r requirements.txt (line 12)) (4.2.0)\n",
            "Requirement already satisfied: google-auth-oauthlib<0.5,>=0.4.1 in /opt/conda/lib/python3.7/site-packages (from tensorboard>=2.4.1->-r requirements.txt (line 18)) (0.4.6)\n",
            "Requirement already satisfied: google-auth<3,>=1.6.3 in /opt/conda/lib/python3.7/site-packages (from tensorboard>=2.4.1->-r requirements.txt (line 18)) (2.6.6)\n",
            "Requirement already satisfied: tensorboard-data-server<0.7.0,>=0.6.0 in /opt/conda/lib/python3.7/site-packages (from tensorboard>=2.4.1->-r requirements.txt (line 18)) (0.6.1)\n",
            "Requirement already satisfied: wheel>=0.26 in /opt/conda/lib/python3.7/site-packages (from tensorboard>=2.4.1->-r requirements.txt (line 18)) (0.37.1)\n",
            "Requirement already satisfied: absl-py>=0.4 in /opt/conda/lib/python3.7/site-packages (from tensorboard>=2.4.1->-r requirements.txt (line 18)) (1.0.0)\n",
            "Requirement already satisfied: markdown>=2.6.8 in /opt/conda/lib/python3.7/site-packages (from tensorboard>=2.4.1->-r requirements.txt (line 18)) (3.3.7)\n",
            "Requirement already satisfied: grpcio>=1.24.3 in /opt/conda/lib/python3.7/site-packages (from tensorboard>=2.4.1->-r requirements.txt (line 18)) (1.46.3)\n",
            "Requirement already satisfied: setuptools>=41.0.0 in /opt/conda/lib/python3.7/site-packages (from tensorboard>=2.4.1->-r requirements.txt (line 18)) (59.8.0)\n",
            "Requirement already satisfied: tensorboard-plugin-wit>=1.6.0 in /opt/conda/lib/python3.7/site-packages (from tensorboard>=2.4.1->-r requirements.txt (line 18)) (1.8.1)\n",
            "Requirement already satisfied: werkzeug>=0.11.15 in /opt/conda/lib/python3.7/site-packages (from tensorboard>=2.4.1->-r requirements.txt (line 18)) (2.1.2)\n",
            "Requirement already satisfied: pytz>=2017.3 in /opt/conda/lib/python3.7/site-packages (from pandas>=1.1.4->-r requirements.txt (line 22)) (2022.1)\n",
            "Requirement already satisfied: decorator in /opt/conda/lib/python3.7/site-packages (from ipython->-r requirements.txt (line 35)) (5.1.1)\n",
            "Requirement already satisfied: pygments in /opt/conda/lib/python3.7/site-packages (from ipython->-r requirements.txt (line 35)) (2.12.0)\n",
            "Requirement already satisfied: jedi>=0.16 in /opt/conda/lib/python3.7/site-packages (from ipython->-r requirements.txt (line 35)) (0.18.1)\n",
            "Requirement already satisfied: prompt-toolkit!=3.0.0,!=3.0.1,<3.1.0,>=2.0.0 in /opt/conda/lib/python3.7/site-packages (from ipython->-r requirements.txt (line 35)) (3.0.29)\n",
            "Requirement already satisfied: pexpect>4.3 in /opt/conda/lib/python3.7/site-packages (from ipython->-r requirements.txt (line 35)) (4.8.0)\n",
            "Requirement already satisfied: matplotlib-inline in /opt/conda/lib/python3.7/site-packages (from ipython->-r requirements.txt (line 35)) (0.1.3)\n",
            "Requirement already satisfied: traitlets>=4.2 in /opt/conda/lib/python3.7/site-packages (from ipython->-r requirements.txt (line 35)) (5.2.1.post0)\n",
            "Requirement already satisfied: backcall in /opt/conda/lib/python3.7/site-packages (from ipython->-r requirements.txt (line 35)) (0.2.0)\n",
            "Requirement already satisfied: pickleshare in /opt/conda/lib/python3.7/site-packages (from ipython->-r requirements.txt (line 35)) (0.7.5)\n",
            "Requirement already satisfied: six in /opt/conda/lib/python3.7/site-packages (from absl-py>=0.4->tensorboard>=2.4.1->-r requirements.txt (line 18)) (1.16.0)\n",
            "Requirement already satisfied: cachetools<6.0,>=2.0.0 in /opt/conda/lib/python3.7/site-packages (from google-auth<3,>=1.6.3->tensorboard>=2.4.1->-r requirements.txt (line 18)) (5.0.0)\n",
            "Requirement already satisfied: pyasn1-modules>=0.2.1 in /opt/conda/lib/python3.7/site-packages (from google-auth<3,>=1.6.3->tensorboard>=2.4.1->-r requirements.txt (line 18)) (0.2.7)\n",
            "Requirement already satisfied: rsa<5,>=3.1.4 in /opt/conda/lib/python3.7/site-packages (from google-auth<3,>=1.6.3->tensorboard>=2.4.1->-r requirements.txt (line 18)) (4.8)\n",
            "Requirement already satisfied: requests-oauthlib>=0.7.0 in /opt/conda/lib/python3.7/site-packages (from google-auth-oauthlib<0.5,>=0.4.1->tensorboard>=2.4.1->-r requirements.txt (line 18)) (1.3.1)\n",
            "Requirement already satisfied: parso<0.9.0,>=0.8.0 in /opt/conda/lib/python3.7/site-packages (from jedi>=0.16->ipython->-r requirements.txt (line 35)) (0.8.3)\n",
            "Requirement already satisfied: importlib-metadata>=4.4 in /opt/conda/lib/python3.7/site-packages (from markdown>=2.6.8->tensorboard>=2.4.1->-r requirements.txt (line 18)) (4.11.4)\n",
            "Requirement already satisfied: ptyprocess>=0.5 in /opt/conda/lib/python3.7/site-packages (from pexpect>4.3->ipython->-r requirements.txt (line 35)) (0.7.0)\n",
            "Requirement already satisfied: wcwidth in /opt/conda/lib/python3.7/site-packages (from prompt-toolkit!=3.0.0,!=3.0.1,<3.1.0,>=2.0.0->ipython->-r requirements.txt (line 35)) (0.2.5)\n",
            "Requirement already satisfied: zipp>=0.5 in /opt/conda/lib/python3.7/site-packages (from importlib-metadata>=4.4->markdown>=2.6.8->tensorboard>=2.4.1->-r requirements.txt (line 18)) (3.8.0)\n",
            "Requirement already satisfied: pyasn1<0.5.0,>=0.4.6 in /opt/conda/lib/python3.7/site-packages (from pyasn1-modules>=0.2.1->google-auth<3,>=1.6.3->tensorboard>=2.4.1->-r requirements.txt (line 18)) (0.4.8)\n",
            "Requirement already satisfied: oauthlib>=3.0.0 in /opt/conda/lib/python3.7/site-packages (from requests-oauthlib>=0.7.0->google-auth-oauthlib<0.5,>=0.4.1->tensorboard>=2.4.1->-r requirements.txt (line 18)) (3.2.0)\n",
            "Installing collected packages: torch, opencv-python, torchvision, thop\n",
            "Successfully installed opencv-python-4.5.5.64 thop-0.0.31.post2005241907 torch-1.11.0 torchvision-0.12.0\n",
            "\u001b[31mERROR: pip's dependency resolver does not currently take into account all the packages that are installed. This behaviour is the source of the following dependency conflicts.\n",
            "apache-beam 2.39.0 requires dill<0.3.2,>=0.3.1.1, but you have dill 0.3.5.1 which is incompatible.\n",
            "apache-beam 2.39.0 requires httplib2<0.20.0,>=0.8, but you have httplib2 0.20.4 which is incompatible.\n",
            "apache-beam 2.39.0 requires pyarrow<8.0.0,>=0.15.1, but you have pyarrow 8.0.0 which is incompatible.\u001b[0m\u001b[31m\n",
            "\u001b[0m"
          ]
        }
      ],
      "source": [
        "!git clone https://github.com/ultralytics/yolov5  # clone\n",
        "%cd yolov5\n",
        "!pip install -r requirements.txt  # install\n",
        "!pip install -q roboflow"
      ]
    },
    {
      "cell_type": "code",
      "execution_count": null,
      "id": "7eab3a82-458b-4c1c-9cf6-034e4186d09a",
      "metadata": {
        "id": "7eab3a82-458b-4c1c-9cf6-034e4186d09a",
        "outputId": "3e20a377-1c56-4ef6-db89-f9c905f2797b"
      },
      "outputs": [
        {
          "name": "stdout",
          "output_type": "stream",
          "text": [
            "Setup complete. Using torch 1.11.0+cu102 (Tesla V100-SXM2-16GB)\n"
          ]
        }
      ],
      "source": [
        "import torch\n",
        "from IPython.display import Image  # for displaying images\n",
        "import os \n",
        "import random\n",
        "import shutil\n",
        "from sklearn.model_selection import train_test_split\n",
        "import xml.etree.ElementTree as ET\n",
        "from xml.dom import minidom\n",
        "from tqdm import tqdm\n",
        "from PIL import Image, ImageDraw\n",
        "import numpy as np\n",
        "import matplotlib.pyplot as plt\n",
        "\n",
        "from IPython.display import Image, clear_output  # to display images\n",
        "\n",
        "print(f\"Setup complete. Using torch {torch.__version__} ({torch.cuda.get_device_properties(0).name if torch.cuda.is_available() else 'CPU'})\")"
      ]
    },
    {
      "cell_type": "code",
      "execution_count": null,
      "id": "87772823-1b70-49aa-93c6-077ba4ff9d9d",
      "metadata": {
        "id": "87772823-1b70-49aa-93c6-077ba4ff9d9d",
        "outputId": "5d4284a9-360e-4aab-a8b0-6c1792e541d8"
      },
      "outputs": [
        {
          "name": "stdout",
          "output_type": "stream",
          "text": [
            "2\n"
          ]
        }
      ],
      "source": [
        "print(torch.cuda.device_count()) # 3"
      ]
    },
    {
      "cell_type": "code",
      "execution_count": null,
      "id": "9673b76f-ff4d-4eed-b8f3-90518d823eea",
      "metadata": {
        "id": "9673b76f-ff4d-4eed-b8f3-90518d823eea",
        "outputId": "ed213d67-ebce-48cc-c090-8d32b0146634"
      },
      "outputs": [
        {
          "name": "stdout",
          "output_type": "stream",
          "text": [
            "\u001b[34m\u001b[1mtrain: \u001b[0mweights=yolov5s.pt, cfg=, data=data/coco128.yaml, hyp=data/hyps/hyp.scratch-low.yaml, epochs=300, batch_size=16, imgsz=640, rect=False, resume=False, nosave=False, noval=False, noautoanchor=False, noplots=False, evolve=None, bucket=, cache=None, image_weights=False, device=, multi_scale=False, single_cls=False, optimizer=SGD, sync_bn=False, workers=8, project=runs/train, name=exp, exist_ok=False, quad=False, cos_lr=False, label_smoothing=0.0, patience=100, freeze=[0], save_period=-1, local_rank=-1, entity=None, upload_dataset=False, bbox_interval=-1, artifact_alias=latest\n",
            "\u001b[34m\u001b[1mgithub: \u001b[0mup to date with https://github.com/ultralytics/yolov5 ✅\n",
            "YOLOv5 🚀 v6.1-234-gd490bdd Python-3.7.12 torch-1.11.0+cu102 CUDA:0 (Tesla V100-SXM2-16GB, 16160MiB)\n",
            "\n",
            "\u001b[34m\u001b[1mhyperparameters: \u001b[0mlr0=0.01, lrf=0.01, momentum=0.937, weight_decay=0.0005, warmup_epochs=3.0, warmup_momentum=0.8, warmup_bias_lr=0.1, box=0.05, cls=0.5, cls_pw=1.0, obj=1.0, obj_pw=1.0, iou_t=0.2, anchor_t=4.0, fl_gamma=0.0, hsv_h=0.015, hsv_s=0.7, hsv_v=0.4, degrees=0.0, translate=0.1, scale=0.5, shear=0.0, perspective=0.0, flipud=0.0, fliplr=0.5, mosaic=1.0, mixup=0.0, copy_paste=0.0\n",
            "\u001b[34m\u001b[1mWeights & Biases: \u001b[0mrun 'pip install wandb' to automatically track and visualize YOLOv5 🚀 runs (RECOMMENDED)\n",
            "\u001b[34m\u001b[1mTensorBoard: \u001b[0mStart with 'tensorboard --logdir runs/train', view at http://localhost:6006/\n",
            "\n",
            "Dataset not found ⚠, missing paths ['/home/jupyter/datasets/coco128/images/train2017']\n",
            "Downloading https://ultralytics.com/assets/coco128.zip to coco128.zip...\n",
            "100%|██████████████████████████████████████| 6.66M/6.66M [00:00<00:00, 48.1MB/s]\n",
            "Dataset download success ✅ (0.7s), saved to \u001b[1m/home/jupyter/datasets\u001b[0m\n",
            "Downloading https://ultralytics.com/assets/Arial.ttf to /home/jupyter/.config/Ultralytics/Arial.ttf...\n",
            "100%|████████████████████████████████████████| 755k/755k [00:00<00:00, 10.6MB/s]\n",
            "Downloading https://github.com/ultralytics/yolov5/releases/download/v6.1/yolov5s.pt to yolov5s.pt...\n",
            "100%|███████████████████████████████████████| 14.1M/14.1M [00:00<00:00, 195MB/s]\n",
            "\n",
            "\n",
            "                 from  n    params  module                                  arguments                     \n",
            "  0                -1  1      3520  models.common.Conv                      [3, 32, 6, 2, 2]              \n",
            "  1                -1  1     18560  models.common.Conv                      [32, 64, 3, 2]                \n",
            "  2                -1  1     18816  models.common.C3                        [64, 64, 1]                   \n",
            "  3                -1  1     73984  models.common.Conv                      [64, 128, 3, 2]               \n",
            "  4                -1  2    115712  models.common.C3                        [128, 128, 2]                 \n",
            "  5                -1  1    295424  models.common.Conv                      [128, 256, 3, 2]              \n",
            "  6                -1  3    625152  models.common.C3                        [256, 256, 3]                 \n",
            "  7                -1  1   1180672  models.common.Conv                      [256, 512, 3, 2]              \n",
            "  8                -1  1   1182720  models.common.C3                        [512, 512, 1]                 \n",
            "  9                -1  1    656896  models.common.SPPF                      [512, 512, 5]                 \n",
            " 10                -1  1    131584  models.common.Conv                      [512, 256, 1, 1]              \n",
            " 11                -1  1         0  torch.nn.modules.upsampling.Upsample    [None, 2, 'nearest']          \n",
            " 12           [-1, 6]  1         0  models.common.Concat                    [1]                           \n",
            " 13                -1  1    361984  models.common.C3                        [512, 256, 1, False]          \n",
            " 14                -1  1     33024  models.common.Conv                      [256, 128, 1, 1]              \n",
            " 15                -1  1         0  torch.nn.modules.upsampling.Upsample    [None, 2, 'nearest']          \n",
            " 16           [-1, 4]  1         0  models.common.Concat                    [1]                           \n",
            " 17                -1  1     90880  models.common.C3                        [256, 128, 1, False]          \n",
            " 18                -1  1    147712  models.common.Conv                      [128, 128, 3, 2]              \n",
            " 19          [-1, 14]  1         0  models.common.Concat                    [1]                           \n",
            " 20                -1  1    296448  models.common.C3                        [256, 256, 1, False]          \n",
            " 21                -1  1    590336  models.common.Conv                      [256, 256, 3, 2]              \n",
            " 22          [-1, 10]  1         0  models.common.Concat                    [1]                           \n",
            " 23                -1  1   1182720  models.common.C3                        [512, 512, 1, False]          \n",
            " 24      [17, 20, 23]  1    229245  models.yolo.Detect                      [80, [[10, 13, 16, 30, 33, 23], [30, 61, 62, 45, 59, 119], [116, 90, 156, 198, 373, 326]], [128, 256, 512]]\n",
            "Model summary: 270 layers, 7235389 parameters, 7235389 gradients, 16.5 GFLOPs\n",
            "\n",
            "^C\n"
          ]
        }
      ],
      "source": [
        "!python train.py"
      ]
    },
    {
      "cell_type": "code",
      "execution_count": null,
      "id": "27b1f5c9-cfe3-479a-8927-12ccfa082c6c",
      "metadata": {
        "id": "27b1f5c9-cfe3-479a-8927-12ccfa082c6c"
      },
      "outputs": [],
      "source": [
        "from zipfile import ZipFile\n",
        "import os\n",
        "\n",
        "def unzip(source_file, dest_path):\n",
        "    with ZipFile(source_file, 'r') as zf:\n",
        "        zipInfo = zf.infolist()\n",
        "        for member in zipInfo:\n",
        "            try:\n",
        "                member.filename = member.filename.encode('cp437').decode('euc-kr', 'ignore')\n",
        "                zf.extract(member, dest_path)\n",
        "            except:\n",
        "                raise Exception('what?!')"
      ]
    },
    {
      "cell_type": "code",
      "execution_count": null,
      "id": "63f4759d-54d4-4b64-9d6c-a4db7ae2420b",
      "metadata": {
        "id": "63f4759d-54d4-4b64-9d6c-a4db7ae2420b"
      },
      "outputs": [],
      "source": [
        "import os\n",
        "os.getcwd()"
      ]
    },
    {
      "cell_type": "code",
      "execution_count": null,
      "id": "a254ce5d-fccf-49dc-813f-3efd63c9b3dc",
      "metadata": {
        "tags": [],
        "id": "a254ce5d-fccf-49dc-813f-3efd63c9b3dc"
      },
      "outputs": [],
      "source": [
        "from google.cloud import storage"
      ]
    },
    {
      "cell_type": "code",
      "execution_count": null,
      "id": "8e9f9884-4db6-4d98-8dc6-2d77bcf6a8ab",
      "metadata": {
        "id": "8e9f9884-4db6-4d98-8dc6-2d77bcf6a8ab"
      },
      "outputs": [],
      "source": [
        "file_names = '/home/jupyter/bb.zip'\n",
        "unzip(file_names,'custom_dataset/val/labels')"
      ]
    },
    {
      "cell_type": "code",
      "execution_count": null,
      "id": "d7c271a5-e48f-4124-bb2d-423a81b2ef0b",
      "metadata": {
        "id": "d7c271a5-e48f-4124-bb2d-423a81b2ef0b",
        "outputId": "e94fe7e5-a747-45bd-9c88-0714db505a0e"
      },
      "outputs": [
        {
          "data": {
            "text/plain": [
              "'custom_dataset/val/labels/자동차전용도로'"
            ]
          },
          "execution_count": 22,
          "metadata": {},
          "output_type": "execute_result"
        }
      ],
      "source": [
        "shutil.move('custom_dataset/val/labels/bb/자동차전용도로',\n",
        "            'custom_dataset/val/labels')"
      ]
    },
    {
      "cell_type": "code",
      "execution_count": null,
      "id": "9d017469-cdae-4834-9dcb-378072a2fd04",
      "metadata": {
        "id": "9d017469-cdae-4834-9dcb-378072a2fd04",
        "outputId": "1fc66608-820f-489e-e905-f025fbf76922"
      },
      "outputs": [
        {
          "data": {
            "text/plain": [
              "'custom_dataset/val/labels/도심로'"
            ]
          },
          "execution_count": 23,
          "metadata": {},
          "output_type": "execute_result"
        }
      ],
      "source": [
        "shutil.move('custom_dataset/val/labels/bb/도심로',\n",
        "            'custom_dataset/val/labels')"
      ]
    },
    {
      "cell_type": "code",
      "execution_count": null,
      "id": "4a6917b1-f3f3-48d4-954c-abaf84eeff5a",
      "metadata": {
        "id": "4a6917b1-f3f3-48d4-954c-abaf84eeff5a"
      },
      "outputs": [],
      "source": [
        "shutil.rmtree('custom_dataset/val/labels/bb')"
      ]
    },
    {
      "cell_type": "code",
      "execution_count": null,
      "id": "8e8d50b0-4373-40bf-b4b3-ee531bc689a7",
      "metadata": {
        "id": "8e8d50b0-4373-40bf-b4b3-ee531bc689a7"
      },
      "outputs": [],
      "source": [
        "file_names = '/home/jupyter/labels.zip'\n",
        "unzip(file_names,'custom_dataset/train')"
      ]
    },
    {
      "cell_type": "code",
      "execution_count": null,
      "id": "44edde69-51c1-46e3-859c-f8d5811e4766",
      "metadata": {
        "id": "44edde69-51c1-46e3-859c-f8d5811e4766",
        "outputId": "f9656726-3241-4041-be0c-2921a292449c"
      },
      "outputs": [
        {
          "data": {
            "text/plain": [
              "'custom_dataset/labels'"
            ]
          },
          "execution_count": 22,
          "metadata": {},
          "output_type": "execute_result"
        }
      ],
      "source": [
        "shutil.move('custom_dataset/train/labels/labels',\n",
        "            'custom_dataset/')"
      ]
    },
    {
      "cell_type": "code",
      "execution_count": null,
      "id": "9d6edea1-08cf-46c9-ad9d-04e1787e9a26",
      "metadata": {
        "id": "9d6edea1-08cf-46c9-ad9d-04e1787e9a26"
      },
      "outputs": [],
      "source": [
        "import os\n",
        "os.remove('/home/jupyter/bb.zip')"
      ]
    },
    {
      "cell_type": "code",
      "execution_count": null,
      "id": "b3c4f32d-8fdf-44f8-bae2-6e6b7c9e96ce",
      "metadata": {
        "id": "b3c4f32d-8fdf-44f8-bae2-6e6b7c9e96ce"
      },
      "outputs": [],
      "source": [
        "os.remove('/home/jupyter/labels.zip')"
      ]
    },
    {
      "cell_type": "code",
      "execution_count": null,
      "id": "55a5b37a-3be0-4d8b-b28f-9c5331d3a709",
      "metadata": {
        "id": "55a5b37a-3be0-4d8b-b28f-9c5331d3a709",
        "outputId": "eedc9160-2c6c-44ef-8da0-8d3df968c957"
      },
      "outputs": [
        {
          "name": "stdout",
          "output_type": "stream",
          "text": [
            "Client created using default project: focal-cooler-343812\n"
          ]
        }
      ],
      "source": [
        "client = storage.Client()\n",
        "print(\"Client created using default project: {}\".format(client.project))"
      ]
    },
    {
      "cell_type": "code",
      "execution_count": null,
      "id": "7e8ea03d-a321-41be-9e3d-5bf2f2175e79",
      "metadata": {
        "id": "7e8ea03d-a321-41be-9e3d-5bf2f2175e79",
        "outputId": "5b988f54-c395-4a3c-8d37-9cf823f7c894"
      },
      "outputs": [
        {
          "name": "stdout",
          "output_type": "stream",
          "text": [
            "Buckets in focal-cooler-343812:\n",
            "\tcloud-ai-platform-b401b12d-7135-4e40-822e-f76792602368\n"
          ]
        }
      ],
      "source": [
        "buckets = client.list_buckets()\n",
        "\n",
        "print(\"Buckets in {}:\".format(client.project))\n",
        "for item in buckets:\n",
        "    print(\"\\t\" + item.name)"
      ]
    },
    {
      "cell_type": "code",
      "execution_count": null,
      "id": "b8d445dc-b161-41b6-9c72-33ba2552eca3",
      "metadata": {
        "id": "b8d445dc-b161-41b6-9c72-33ba2552eca3",
        "outputId": "2c30499c-c1a7-4eea-ac4d-f6fb9d295e54"
      },
      "outputs": [
        {
          "name": "stdout",
          "output_type": "stream",
          "text": [
            "Bucket name: cloud-ai-platform-b401b12d-7135-4e40-822e-f76792602368\n",
            "Bucket location: US-CENTRAL1\n",
            "Bucket storage class: REGIONAL\n"
          ]
        }
      ],
      "source": [
        "bucket_name = 'cloud-ai-platform-b401b12d-7135-4e40-822e-f76792602368'\n",
        "\n",
        "bucket = client.get_bucket(bucket_name)\n",
        "\n",
        "print(\"Bucket name: {}\".format(bucket.name))\n",
        "print(\"Bucket location: {}\".format(bucket.location))\n",
        "print(\"Bucket storage class: {}\".format(bucket.storage_class))"
      ]
    },
    {
      "cell_type": "code",
      "execution_count": null,
      "id": "88ceedd8-3012-4894-977f-e4d741e3e890",
      "metadata": {
        "id": "88ceedd8-3012-4894-977f-e4d741e3e890",
        "outputId": "3c409264-4d7b-44fc-f7c1-a2d4e43ff031"
      },
      "outputs": [
        {
          "name": "stdout",
          "output_type": "stream",
          "text": [
            "<Bucket: cloud-ai-platform-b401b12d-7135-4e40-822e-f76792602368>\n"
          ]
        }
      ],
      "source": [
        "bucket_name = 'cloud-ai-platform-b401b12d-7135-4e40-822e-f76792602368'\n",
        "dl_dir = '/home/jupyter/'\n",
        "prefix = 'gs://cloud-ai-platform-b401b12d-7135-4e40-822e-f76792602368/'\n",
        "\n",
        "storage_client = storage.Client()\n",
        "bucket = storage_client.get_bucket(bucket_name)\n",
        "print(bucket)\n",
        "blobs = bucket.list_blobs()  # Get list of files\n",
        "for blob in blobs:\n",
        "    filename = blob.name.replace('/', '_') \n",
        "    blob.download_to_filename(dl_dir + filename)"
      ]
    },
    {
      "cell_type": "code",
      "execution_count": null,
      "id": "8e1c56ae-6b02-41a3-893a-d8f807f29ae3",
      "metadata": {
        "id": "8e1c56ae-6b02-41a3-893a-d8f807f29ae3"
      },
      "outputs": [],
      "source": [
        "file_names = '/home/jupyter/[원천]도심로.zip'\n",
        "unzip(file_names,'custom_dataset/train/images')"
      ]
    },
    {
      "cell_type": "code",
      "execution_count": null,
      "id": "cfb73996-f552-4b0f-b1b8-488be813f06c",
      "metadata": {
        "id": "cfb73996-f552-4b0f-b1b8-488be813f06c"
      },
      "outputs": [],
      "source": [
        "file_names = '/home/jupyter/[원천]자동차전용도로.zip'\n",
        "unzip(file_names,'custom_dataset/train/images')"
      ]
    },
    {
      "cell_type": "code",
      "execution_count": null,
      "id": "0d8dc278-bf13-433c-b398-68216e1e73dd",
      "metadata": {
        "id": "0d8dc278-bf13-433c-b398-68216e1e73dd"
      },
      "outputs": [],
      "source": [
        "file_names = '/home/jupyter/원천데이터-001.zip'\n",
        "unzip(file_names,'custom_dataset/val/images')"
      ]
    },
    {
      "cell_type": "code",
      "execution_count": null,
      "id": "4ab51562-e5f1-4ee6-849d-c85e461a076a",
      "metadata": {
        "id": "4ab51562-e5f1-4ee6-849d-c85e461a076a"
      },
      "outputs": [],
      "source": [
        "os.remove('/home/jupyter/[원천]도심로.zip')\n",
        "os.remove('/home/jupyter/[원천]자동차전용도로.zip')\n",
        "os.remove('/home/jupyter/원천데이터-001.zip')"
      ]
    },
    {
      "cell_type": "code",
      "execution_count": null,
      "id": "8552d384-fb1d-433b-b5a3-aad5744421a8",
      "metadata": {
        "id": "8552d384-fb1d-433b-b5a3-aad5744421a8",
        "outputId": "290f08d2-868d-452f-8a7a-94ad2c35a113"
      },
      "outputs": [
        {
          "data": {
            "text/plain": [
              "'custom_dataset/bb'"
            ]
          },
          "execution_count": 17,
          "metadata": {},
          "output_type": "execute_result"
        }
      ],
      "source": [
        "shutil.move('custom_dataset/val/images/bb',\n",
        "            'custom_dataset/')"
      ]
    },
    {
      "cell_type": "code",
      "execution_count": null,
      "id": "a02b3bfe-c113-4d5d-8e2c-a16a9b2e609e",
      "metadata": {
        "id": "a02b3bfe-c113-4d5d-8e2c-a16a9b2e609e"
      },
      "outputs": [],
      "source": [
        "shutil.rmtree('custom_dataset/val/images')"
      ]
    },
    {
      "cell_type": "code",
      "execution_count": null,
      "id": "401d97b3-7f23-477b-9e32-c720c0c8c322",
      "metadata": {
        "id": "401d97b3-7f23-477b-9e32-c720c0c8c322",
        "outputId": "e75fc612-857e-49e9-d83c-77437e2597af"
      },
      "outputs": [
        {
          "data": {
            "text/plain": [
              "'custom_dataset/val/images'"
            ]
          },
          "execution_count": 19,
          "metadata": {},
          "output_type": "execute_result"
        }
      ],
      "source": [
        "shutil.move('custom_dataset/bb',\n",
        "            'custom_dataset/val/images')"
      ]
    },
    {
      "cell_type": "code",
      "execution_count": null,
      "id": "3e8d2bb6-9d1c-42d7-8bea-92118dc6ab3f",
      "metadata": {
        "id": "3e8d2bb6-9d1c-42d7-8bea-92118dc6ab3f"
      },
      "outputs": [],
      "source": [
        "import yaml\n",
        "\n",
        "make_yaml = {\n",
        "             \"train\" : \"/home/jupyter/yolov5/custom_dataset/train\",\n",
        "            \"val\": \"/home/jupyter/yolov5/custom_dataset/val\",\n",
        "\n",
        "             \"nc\" : 32,\n",
        "             \"names\": ['Vehicle_Car', 'Vehicle_Bus', 'Vehicle_Motorcycle', 'Vehicle_Unknown', \n",
        "                       'Pedestrian_Pedestrian', 'Pedestrian_Bicycle', 'Lane_White_Dash', 'Lane_White_Solid', \n",
        "                       'Lane_Yellow_Dash', 'Lane_Yellow_Solid', 'Lane_Blue_Dash', 'Lane_Blue_Solid', \n",
        "                       'TrafficLight_Red', 'TrafficLight_Yellow', 'TrafficLight_Green', 'TrafficLight_Arrow', \n",
        "                       'TrafficLight_RedArrow', 'TrafficLight_YellowArrow', 'TrafficLight_GreenArrow', \n",
        "                       'TrafficSign_Speed', 'TrafficSign_Else', 'RoadMark_StopLine', 'RoadMark_Crosswalk', \n",
        "                       'RoadMark_Number', 'RoadMark_Character', 'RoadMarkArrow_Straight', 'RoadMarkArrow_Left', \n",
        "                       'RoadMarkArrow_Right', 'RoadMarkArrow_StraightLeft', 'RoadMarkArrow_StraightRight', \n",
        "                       'RoadMarkArrow_Uturn', 'RoadMarkArrow_Else']\n",
        "}\n",
        "with open('data/custom_dataset.yaml', 'w') as outfile:\n",
        "    yaml.dump(make_yaml, outfile, default_flow_style=False)"
      ]
    },
    {
      "cell_type": "code",
      "execution_count": null,
      "id": "88ff7ff9-302b-43ec-9c46-2899d4a3311e",
      "metadata": {
        "id": "88ff7ff9-302b-43ec-9c46-2899d4a3311e"
      },
      "outputs": [],
      "source": [
        "lab =['Vehicle_Car', 'Vehicle_Bus', 'Vehicle_Motorcycle', 'Vehicle_Unknown', \n",
        "                       'Pedestrian_Pedestrian', 'Pedestrian_Bicycle', 'Lane_White_Dash', 'Lane_White_Solid', \n",
        "                       'Lane_Yellow_Dash', 'Lane_Yellow_Solid', 'Lane_Blue_Dash', 'Lane_Blue_Solid', \n",
        "                       'TrafficLight_Red', 'TrafficLight_Yellow', 'TrafficLight_Green', 'TrafficLight_Arrow', \n",
        "                       'TrafficLight_RedArrow', 'TrafficLight_YellowArrow', 'TrafficLight_GreenArrow', \n",
        "                       'TrafficSign_Speed', 'TrafficSign_Else', 'RoadMark_StopLine', 'RoadMark_Crosswalk', \n",
        "                       'RoadMark_Number', 'RoadMark_Character', 'RoadMarkArrow_Straight', 'RoadMarkArrow_Left', \n",
        "                       'RoadMarkArrow_Right', 'RoadMarkArrow_StraightLeft', 'RoadMarkArrow_StraightRight', \n",
        "                       'RoadMarkArrow_Uturn', 'RoadMarkArrow_Else']"
      ]
    },
    {
      "cell_type": "code",
      "execution_count": null,
      "id": "591664d9-3aa0-483a-9988-c3190a04faaa",
      "metadata": {
        "id": "591664d9-3aa0-483a-9988-c3190a04faaa"
      },
      "outputs": [],
      "source": [
        "for (root, directories, files) in os.walk('/home/jupyter/yolov5/custom_dataset'):\n",
        "    for file in files:\n",
        "        file_path = os.path.join(root, file)\n",
        "        change_file_path = file.replace('_v001_1','')\n",
        "        file_path2 = os.path.join(root, change_file_path)\n",
        "        os.rename(file_path,file_path2)"
      ]
    },
    {
      "cell_type": "code",
      "execution_count": null,
      "id": "dd048984-3a6d-42d0-bbb1-ad79da6e0e9d",
      "metadata": {
        "id": "dd048984-3a6d-42d0-bbb1-ad79da6e0e9d"
      },
      "outputs": [],
      "source": [
        "for (root, directories, files) in os.walk('/home/jupyter/yolov5/custom_dataset'):\n",
        "    for file in directories:\n",
        "        file_path = os.path.join(root, file)\n",
        "        if 'annotations' in file_path:\n",
        "            change_file_path = file_path.replace('_annotations_v001_1','')\n",
        "          \n",
        "            shutil.move(file_path,change_file_path)"
      ]
    },
    {
      "cell_type": "code",
      "execution_count": null,
      "id": "9c3fe0a1-febf-4d3d-84fe-513763426889",
      "metadata": {
        "id": "9c3fe0a1-febf-4d3d-84fe-513763426889",
        "outputId": "2214f97c-0323-4cf2-8d4d-9138b535cd4c"
      },
      "outputs": [
        {
          "name": "stdout",
          "output_type": "stream",
          "text": [
            "WARNING:__main__:\n",
            "*****************************************\n",
            "Setting OMP_NUM_THREADS environment variable for each process to be 1 in default, to avoid your system being overloaded, please further tune the variable for optimal performance in your application as needed. \n",
            "*****************************************\n",
            "\u001b[34m\u001b[1mtrain: \u001b[0mweights=yolov5s.pt, cfg=, data=data/custom_dataset.yaml, hyp=data/hyps/hyp.scratch-low.yaml, epochs=30, batch_size=140, imgsz=640, rect=False, resume=False, nosave=False, noval=False, noautoanchor=False, noplots=False, evolve=None, bucket=, cache=None, image_weights=False, device=0,1, multi_scale=False, single_cls=False, optimizer=SGD, sync_bn=False, workers=8, project=runs/train, name=exp, exist_ok=False, quad=False, cos_lr=False, label_smoothing=0.0, patience=100, freeze=[0], save_period=-1, local_rank=-1, entity=None, upload_dataset=False, bbox_interval=-1, artifact_alias=latest\n",
            "\u001b[34m\u001b[1mgithub: \u001b[0m⚠️ YOLOv5 is out of date by 1 commit. Use `git pull` or `git clone https://github.com/ultralytics/yolov5` to update.\n",
            "YOLOv5 🚀 v6.1-234-gd490bdd Python-3.7.12 torch-1.11.0+cu102 CUDA:0 (Tesla V100-SXM2-16GB, 16160MiB)\n",
            "                                                             CUDA:1 (Tesla V100-SXM2-16GB, 16160MiB)\n",
            "\n",
            "Added key: store_based_barrier_key:1 to store for rank: 0\n",
            "Rank 0: Completed store-based barrier for key:store_based_barrier_key:1 with 2 nodes.\n",
            "\u001b[34m\u001b[1mhyperparameters: \u001b[0mlr0=0.01, lrf=0.01, momentum=0.937, weight_decay=0.0005, warmup_epochs=3.0, warmup_momentum=0.8, warmup_bias_lr=0.1, box=0.05, cls=0.5, cls_pw=1.0, obj=1.0, obj_pw=1.0, iou_t=0.2, anchor_t=4.0, fl_gamma=0.0, hsv_h=0.015, hsv_s=0.7, hsv_v=0.4, degrees=0.0, translate=0.1, scale=0.5, shear=0.0, perspective=0.0, flipud=0.0, fliplr=0.5, mosaic=1.0, mixup=0.0, copy_paste=0.0\n",
            "\u001b[34m\u001b[1mWeights & Biases: \u001b[0mrun 'pip install wandb' to automatically track and visualize YOLOv5 🚀 runs (RECOMMENDED)\n",
            "\u001b[34m\u001b[1mTensorBoard: \u001b[0mStart with 'tensorboard --logdir runs/train', view at http://localhost:6006/\n",
            "Overriding model.yaml nc=80 with nc=32\n",
            "\n",
            "                 from  n    params  module                                  arguments                     \n",
            "  0                -1  1      3520  models.common.Conv                      [3, 32, 6, 2, 2]              \n",
            "  1                -1  1     18560  models.common.Conv                      [32, 64, 3, 2]                \n",
            "  2                -1  1     18816  models.common.C3                        [64, 64, 1]                   \n",
            "  3                -1  1     73984  models.common.Conv                      [64, 128, 3, 2]               \n",
            "  4                -1  2    115712  models.common.C3                        [128, 128, 2]                 \n",
            "  5                -1  1    295424  models.common.Conv                      [128, 256, 3, 2]              \n",
            "  6                -1  3    625152  models.common.C3                        [256, 256, 3]                 \n",
            "  7                -1  1   1180672  models.common.Conv                      [256, 512, 3, 2]              \n",
            "  8                -1  1   1182720  models.common.C3                        [512, 512, 1]                 \n",
            "  9                -1  1    656896  models.common.SPPF                      [512, 512, 5]                 \n",
            " 10                -1  1    131584  models.common.Conv                      [512, 256, 1, 1]              \n",
            " 11                -1  1         0  torch.nn.modules.upsampling.Upsample    [None, 2, 'nearest']          \n",
            " 12           [-1, 6]  1         0  models.common.Concat                    [1]                           \n",
            " 13                -1  1    361984  models.common.C3                        [512, 256, 1, False]          \n",
            " 14                -1  1     33024  models.common.Conv                      [256, 128, 1, 1]              \n",
            " 15                -1  1         0  torch.nn.modules.upsampling.Upsample    [None, 2, 'nearest']          \n",
            " 16           [-1, 4]  1         0  models.common.Concat                    [1]                           \n",
            " 17                -1  1     90880  models.common.C3                        [256, 128, 1, False]          \n",
            " 18                -1  1    147712  models.common.Conv                      [128, 128, 3, 2]              \n",
            " 19          [-1, 14]  1         0  models.common.Concat                    [1]                           \n",
            " 20                -1  1    296448  models.common.C3                        [256, 256, 1, False]          \n",
            " 21                -1  1    590336  models.common.Conv                      [256, 256, 3, 2]              \n",
            " 22          [-1, 10]  1         0  models.common.Concat                    [1]                           \n",
            " 23                -1  1   1182720  models.common.C3                        [512, 512, 1, False]          \n",
            " 24      [17, 20, 23]  1     99789  models.yolo.Detect                      [32, [[10, 13, 16, 30, 33, 23], [30, 61, 62, 45, 59, 119], [116, 90, 156, 198, 373, 326]], [128, 256, 512]]\n",
            "Model summary: 270 layers, 7105933 parameters, 7105933 gradients, 16.1 GFLOPs\n",
            "\n",
            "Transferred 343/349 items from yolov5s.pt\n",
            "\u001b[34m\u001b[1mAMP: \u001b[0mchecks passed ✅\n",
            "Scaled weight_decay = 0.00109375\n",
            "\u001b[34m\u001b[1moptimizer:\u001b[0m SGD with parameter groups 57 weight (no decay), 60 weight, 60 bias\n",
            "\u001b[34m\u001b[1mtrain: \u001b[0mScanning '/home/jupyter/yolov5/custom_dataset/train/labels/도심로/야간일\u001b[0m\n",
            "\u001b[34m\u001b[1mtrain: \u001b[0mWARNING: /home/jupyter/yolov5/custom_dataset/train/images/도심로/주간일출/맑음/120_전방/20200825_122304/3/3_20200825_122304_000360.jpg: 1 duplicate labels removed\n",
            "\u001b[34m\u001b[1mtrain: \u001b[0mWARNING: /home/jupyter/yolov5/custom_dataset/train/images/도심로/주간일출/맑음/120_전방/20200910_184706/3/3_20200910_184706_004350.jpg: 1 duplicate labels removed\n",
            "\u001b[34m\u001b[1mtrain: \u001b[0mWARNING: /home/jupyter/yolov5/custom_dataset/train/images/도심로/주간일출/맑음/120_전방/20200910_184706/3/3_20200910_184706_005700.jpg: 1 duplicate labels removed\n",
            "\u001b[34m\u001b[1mtrain: \u001b[0mWARNING: /home/jupyter/yolov5/custom_dataset/train/images/도심로/주간일출/맑음/60_전방/20200602_140330/2/2_20200602_140330_000210.jpg: ignoring corrupt image/label: non-normalized or out of bounds coordinates [     1.0339]\n",
            "\u001b[34m\u001b[1mtrain: \u001b[0mWARNING: /home/jupyter/yolov5/custom_dataset/train/images/도심로/주간일출/맑음/60_전방/20200602_140510/2/2_20200602_140510_000330.jpg: ignoring corrupt image/label: non-normalized or out of bounds coordinates [     1.0031]\n",
            "\u001b[34m\u001b[1mtrain: \u001b[0mWARNING: /home/jupyter/yolov5/custom_dataset/train/images/도심로/주간일출/맑음/60_전방/20200602_141054/2/2_20200602_141054_000150.jpg: ignoring corrupt image/label: non-normalized or out of bounds coordinates [     1.0057]\n",
            "\u001b[34m\u001b[1mtrain: \u001b[0mWARNING: /home/jupyter/yolov5/custom_dataset/train/images/도심로/주간일출/맑음/60_전방/20200602_141529/2/2_20200602_141529_000300.jpg: ignoring corrupt image/label: non-normalized or out of bounds coordinates [     1.0068]\n",
            "\u001b[34m\u001b[1mtrain: \u001b[0mWARNING: /home/jupyter/yolov5/custom_dataset/train/images/도심로/주간일출/맑음/60_전방/20200602_141935/2/2_20200602_141935_000270.jpg: ignoring corrupt image/label: non-normalized or out of bounds coordinates [     1.0016]\n",
            "\u001b[34m\u001b[1mtrain: \u001b[0mWARNING: /home/jupyter/yolov5/custom_dataset/train/images/도심로/주간일출/맑음/60_전방/20200602_141935/2/2_20200602_141935_000360.jpg: ignoring corrupt image/label: non-normalized or out of bounds coordinates [     1.0016]\n",
            "\u001b[34m\u001b[1mtrain: \u001b[0mWARNING: /home/jupyter/yolov5/custom_dataset/train/images/도심로/주간일출/맑음/60_전방/20200602_142039/2/2_20200602_142039_000090.jpg: ignoring corrupt image/label: non-normalized or out of bounds coordinates [     1.0031]\n",
            "\u001b[34m\u001b[1mtrain: \u001b[0mWARNING: /home/jupyter/yolov5/custom_dataset/train/images/도심로/주간일출/맑음/60_전방/20200602_142039/2/2_20200602_142039_000600.jpg: ignoring corrupt image/label: non-normalized or out of bounds coordinates [     1.0026]\n",
            "\u001b[34m\u001b[1mtrain: \u001b[0mWARNING: /home/jupyter/yolov5/custom_dataset/train/images/도심로/주간일출/맑음/60_전방/20200602_162146/2/2_20200602_162146_000840.jpg: 1 duplicate labels removed\n",
            "\u001b[34m\u001b[1mtrain: \u001b[0mWARNING: /home/jupyter/yolov5/custom_dataset/train/images/도심로/주간일출/맑음/60_전방/20200602_165318/2/2_20200602_165318_000060.jpg: ignoring corrupt image/label: non-normalized or out of bounds coordinates [     1.0005]\n",
            "\u001b[34m\u001b[1mtrain: \u001b[0mWARNING: /home/jupyter/yolov5/custom_dataset/train/images/도심로/주간일출/맑음/60_전방/20200602_165922/2/2_20200602_165922_000120.jpg: ignoring corrupt image/label: non-normalized or out of bounds coordinates [     1.0036]\n",
            "\u001b[34m\u001b[1mtrain: \u001b[0mWARNING: /home/jupyter/yolov5/custom_dataset/train/images/도심로/주간일출/맑음/60_전방/20200602_170332/2/2_20200602_170332_000060.jpg: ignoring corrupt image/label: non-normalized or out of bounds coordinates [      1.001]\n",
            "\u001b[34m\u001b[1mtrain: \u001b[0mWARNING: /home/jupyter/yolov5/custom_dataset/train/images/도심로/주간일출/맑음/60_전방/20200602_175141/2/2_20200602_175141_000150.jpg: ignoring corrupt image/label: non-normalized or out of bounds coordinates [     1.0005]\n",
            "\u001b[34m\u001b[1mtrain: \u001b[0mWARNING: /home/jupyter/yolov5/custom_dataset/train/images/도심로/주간일출/맑음/60_전방/20200910_085305/2/2_20200910_085305_000510.jpg: 1 duplicate labels removed\n",
            "\u001b[34m\u001b[1mtrain: \u001b[0mWARNING: /home/jupyter/yolov5/custom_dataset/train/images/도심로/주간일출/맑음/60_전방/20201019_133052/2/2_20201019_133052_003690.jpg: 1 duplicate labels removed\n",
            "\u001b[34m\u001b[1mval: \u001b[0mScanning '/home/jupyter/yolov5/custom_dataset/val/labels/도심로/야간일몰/맑\u001b[0m\n",
            "Plotting labels to runs/train/exp16/labels.jpg... \n",
            "\n",
            "\u001b[34m\u001b[1mAutoAnchor: \u001b[0m3.81 anchors/target, 0.916 Best Possible Recall (BPR). Anchors are a poor fit to dataset ⚠️, attempting to improve...\n",
            "\u001b[34m\u001b[1mAutoAnchor: \u001b[0mWARNING: Extremely small objects found: 36143 of 774581 labels are < 3 pixels in size\n",
            "\u001b[34m\u001b[1mAutoAnchor: \u001b[0mRunning kmeans for 9 anchors on 774568 points...\n",
            "\u001b[34m\u001b[1mAutoAnchor: \u001b[0mEvolving anchors with Genetic Algorithm: fitness = 0.7015: 100%|████\u001b[0m\n",
            "\u001b[34m\u001b[1mAutoAnchor: \u001b[0mthr=0.25: 0.9953 best possible recall, 4.07 anchors past thr\n",
            "\u001b[34m\u001b[1mAutoAnchor: \u001b[0mn=9, img_size=640, metric_all=0.289/0.702-mean/best, past_thr=0.492-mean: 13,4, 10,11, 20,15, 29,22, 151,6, 44,35, 80,57, 340,46, 161,127\n",
            "\u001b[34m\u001b[1mAutoAnchor: \u001b[0mDone ✅ (optional: update model *.yaml to use these anchors in the future)\n",
            "Image sizes 640 train, 640 val\n",
            "Using 8 dataloader workers\n",
            "Logging results to \u001b[1mruns/train/exp16\u001b[0m\n",
            "Starting training for 30 epochs...\n",
            "\n",
            "     Epoch   gpu_mem       box       obj       cls    labels  img_size\n",
            "      0/29     13.6G    0.1337   0.04754    0.0944      1318       640:   0%|   Reducer buckets have been rebuilt in this iteration.\n",
            "      0/29     4.93G   0.07825    0.0573   0.03702       373       640: 100%|███\n",
            "               Class     Images     Labels          P          R     mAP@.5 mAP@\n",
            "                 all       4015      38757      0.593      0.207        0.2      0.088\n",
            "\n",
            "     Epoch   gpu_mem       box       obj       cls    labels  img_size\n",
            "      1/29     12.9G   0.06224   0.05337    0.0224       379       640: 100%|███\n",
            "               Class     Images     Labels          P          R     mAP@.5 mAP@\n",
            "                 all       4015      38757       0.68      0.272      0.271      0.127\n",
            "\n",
            "     Epoch   gpu_mem       box       obj       cls    labels  img_size\n",
            "      2/29     12.9G    0.0576   0.05195   0.01924       397       640: 100%|███\n",
            "               Class     Images     Labels          P          R     mAP@.5 mAP@\n",
            "                 all       4015      38757       0.76      0.281      0.331      0.182\n",
            "\n",
            "     Epoch   gpu_mem       box       obj       cls    labels  img_size\n",
            "      3/29     12.9G   0.05375    0.0505   0.01691       257       640: 100%|███\n",
            "               Class     Images     Labels          P          R     mAP@.5 mAP@\n",
            "                 all       4015      38757      0.741      0.343      0.383      0.229\n",
            "\n",
            "     Epoch   gpu_mem       box       obj       cls    labels  img_size\n",
            "      4/29     12.9G   0.05133   0.04944   0.01547       396       640: 100%|███\n",
            "               Class     Images     Labels          P          R     mAP@.5 mAP@\n",
            "                 all       4015      38757      0.787      0.356      0.402      0.239\n",
            "\n",
            "     Epoch   gpu_mem       box       obj       cls    labels  img_size\n",
            "      5/29     12.9G    0.0498   0.04835   0.01461       336       640: 100%|███\n",
            "               Class     Images     Labels          P          R     mAP@.5 mAP@\n",
            "                 all       4015      38757      0.719      0.377      0.438      0.269\n",
            "\n",
            "     Epoch   gpu_mem       box       obj       cls    labels  img_size\n",
            "      6/29     12.9G   0.04874   0.04769   0.01406       370       640: 100%|███\n",
            "               Class     Images     Labels          P          R     mAP@.5 mAP@\n",
            "                 all       4015      38757      0.691      0.392      0.442       0.27\n",
            "\n",
            "     Epoch   gpu_mem       box       obj       cls    labels  img_size\n",
            "      7/29     12.9G   0.04806   0.04728   0.01361       359       640: 100%|███\n",
            "               Class     Images     Labels          P          R     mAP@.5 mAP@\n",
            "                 all       4015      38757      0.597      0.452      0.464      0.285\n",
            "\n",
            "     Epoch   gpu_mem       box       obj       cls    labels  img_size\n",
            "      8/29     12.9G   0.04718   0.04675   0.01317      1328       640:  94%|███"
          ]
        }
      ],
      "source": [
        "!python -m torch.distributed.run --nproc_per_node 2 train.py --img 640 --batch 140 --epochs 30 --data data/custom_dataset.yaml --weights yolov5s.pt --device 0,1"
      ]
    },
    {
      "cell_type": "code",
      "execution_count": null,
      "id": "6cf958c2-829c-4da3-ade1-d078d35e33a5",
      "metadata": {
        "id": "6cf958c2-829c-4da3-ade1-d078d35e33a5"
      },
      "outputs": [],
      "source": [
        "import shutil\n",
        "\n",
        "shutil.rmtree('custom_dataset/val/images/자동차전용도로')\n",
        "shutil.rmtree('custom_dataset/val/labels/자동차전용도로')"
      ]
    },
    {
      "cell_type": "code",
      "execution_count": null,
      "id": "fead0774-35ec-4bf3-81be-de53b746ae5f",
      "metadata": {
        "id": "fead0774-35ec-4bf3-81be-de53b746ae5f"
      },
      "outputs": [],
      "source": [
        "import os\n",
        "import zipfile\n",
        " \n",
        "fantasy_zip = zipfile.ZipFile('C:\\\\Stories\\\\Fantasy\\\\archive.zip', 'w')\n",
        " \n",
        "for folder, subfolders, files in os.walk('C:\\\\Stories\\\\Fantasy'):\n",
        " \n",
        "    for file in files:\n",
        "        if file.endswith('.pdf'):\n",
        "            fantasy_zip.write(os.path.join(folder, file), os.path.relpath(os.path.join(folder,file), 'C:\\\\Stories\\\\Fantasy'), compress_type = zipfile.ZIP_DEFLATED)\n",
        " \n",
        "fantasy_zip.close()\n"
      ]
    }
  ],
  "metadata": {
    "environment": {
      "kernel": "python3",
      "name": "tf2-gpu.2-8.m93",
      "type": "gcloud",
      "uri": "gcr.io/deeplearning-platform-release/tf2-gpu.2-8:m93"
    },
    "kernelspec": {
      "display_name": "Python 3",
      "language": "python",
      "name": "python3"
    },
    "language_info": {
      "codemirror_mode": {
        "name": "ipython",
        "version": 3
      },
      "file_extension": ".py",
      "mimetype": "text/x-python",
      "name": "python",
      "nbconvert_exporter": "python",
      "pygments_lexer": "ipython3",
      "version": "3.7.12"
    },
    "toc-autonumbering": true,
    "toc-showcode": false,
    "toc-showmarkdowntxt": false,
    "toc-showtags": false,
    "colab": {
      "name": "yolov5_jupyterlab.ipynb",
      "provenance": [],
      "include_colab_link": true
    }
  },
  "nbformat": 4,
  "nbformat_minor": 5
}